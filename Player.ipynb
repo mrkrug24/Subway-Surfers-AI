{
 "cells": [
  {
   "cell_type": "markdown",
   "metadata": {},
   "source": [
    "Importing libraries"
   ]
  },
  {
   "cell_type": "code",
   "execution_count": null,
   "metadata": {},
   "outputs": [],
   "source": [
    "import tensorflow as tf\n",
    "from keras import backend\n",
    "from keras.dtensor import layout_map as layout_map_lib\n",
    "\n",
    "import time\n",
    "import mouse\n",
    "import keyboard\n",
    "from importlib.resources import is_resource\n",
    "from pynput.keyboard import Key, Controller\n",
    "from pynput.mouse import Button, Controller\n",
    "\n",
    "import cv2\n",
    "import numpy as np\n",
    "import PIL.ImageGrab\n",
    "\n",
    "\n",
    "import keras\n",
    "from keras.layers import Dense, Dropout, Flatten, BatchNormalization, Activation"
   ]
  },
  {
   "cell_type": "markdown",
   "metadata": {},
   "source": [
    "Collecting training data (during the game)"
   ]
  },
  {
   "cell_type": "code",
   "execution_count": null,
   "metadata": {},
   "outputs": [],
   "source": [
    "def screenshot():\n",
    "    screenshot = PIL.ImageGrab.grab()\n",
    "\n",
    "    img = cv2.cvtColor(np.array(screenshot), cv2.COLOR_RGB2GRAY)\n",
    "    img = cv2.resize(img, (img.shape[1] // 2, img.shape[0] // 2))\n",
    "\n",
    "    img = cv2.Canny(img, 40, 40)\n",
    "\n",
    "    kernel = np.ones((1, 1), np.uint8) #uinSt8 - натуральные толщина слоя\n",
    "    img = cv2.dilate(img, kernel, iterations=5)\n",
    "    img = cv2.erode(img, kernel, iterations=5)\n",
    "    \n",
    "    return img"
   ]
  },
  {
   "cell_type": "code",
   "execution_count": 66,
   "metadata": {},
   "outputs": [],
   "source": [
    "cnt_up = 0\n",
    "cnt_down = 0\n",
    "cnt_left = 0 \n",
    "cnt_right = 0\n",
    "cnt_none = 0"
   ]
  },
  {
   "cell_type": "code",
   "execution_count": 151,
   "metadata": {},
   "outputs": [],
   "source": [
    "while True:\n",
    "    try:\n",
    "        if mouse.is_pressed('left'):\n",
    "            break\n",
    "    except:\n",
    "        break\n",
    "\n",
    "time.sleep(1)\n",
    "    \n",
    "\n",
    "while True:\n",
    "    try:\n",
    "        if mouse.is_pressed('left'):\n",
    "            break\n",
    "    except:\n",
    "        break\n",
    "    \n",
    "time.sleep(1)\n",
    "    \n",
    "    \n",
    "while True:\n",
    "    try:\n",
    "        if mouse.is_pressed('left'):\n",
    "            break\n",
    "    except:\n",
    "        break\n",
    "    \n",
    "    \n",
    "while True:\n",
    "    try:\n",
    "        if keyboard.is_pressed('enter'):\n",
    "            break\n",
    "        \n",
    "        elif keyboard.is_pressed('up'):\n",
    "            screen = screenshot()\n",
    "            cv2.imwrite(\"Moves/Up/\" + str(cnt_up) + \".jpg\", screen)\n",
    "            cnt_up += 1\n",
    "            time.sleep(0.1)\n",
    "        \n",
    "        elif keyboard.is_pressed('down'):\n",
    "            screen = screenshot()\n",
    "            cv2.imwrite(\"Moves/Down/\" + str(cnt_down) + \".jpg\", screen)\n",
    "            cnt_down += 1\n",
    "            time.sleep(0.1)\n",
    "        \n",
    "        elif keyboard.is_pressed('left'):\n",
    "            screen = screenshot()\n",
    "            cv2.imwrite(\"Moves/Left/\" + str(cnt_left) + \".jpg\", screen)\n",
    "            cnt_left += 1\n",
    "            time.sleep(0.1)\n",
    "        \n",
    "        elif keyboard.is_pressed('right'):\n",
    "            screen = screenshot()\n",
    "            cv2.imwrite(\"Moves/Right/\" + str(cnt_right) + \".jpg\", screen)\n",
    "            \n",
    "            cnt_right += 1\n",
    "            time.sleep(0.1)\n",
    "            \n",
    "        elif keyboard.is_pressed('enter'):\n",
    "            break\n",
    "\n",
    "        else:\n",
    "            screen = screenshot()\n",
    "            cv2.imwrite(\"Moves/None/\" + str(cnt_none) + \".jpg\", screen)\n",
    "            cnt_none += 1\n",
    "            time.sleep(0.1)\n",
    "            \n",
    "    except:\n",
    "        break\n",
    "    "
   ]
  },
  {
   "cell_type": "markdown",
   "metadata": {},
   "source": [
    "Сonverting images into arrays and compiling a training dataset"
   ]
  },
  {
   "cell_type": "code",
   "execution_count": null,
   "metadata": {},
   "outputs": [],
   "source": [
    "down = np.zeros(shape=(1000, 720, 1280))\n",
    "\n",
    "for i in range(281):\n",
    "    img = cv2.imread('Train/Down/Down(' + str(i) + ').jpg')\n",
    "    img = cv2.cvtColor(np.array(img), cv2.COLOR_RGB2GRAY)\n",
    "    img = np.array(img)\n",
    "    down[i] = img"
   ]
  },
  {
   "cell_type": "code",
   "execution_count": null,
   "metadata": {},
   "outputs": [],
   "source": [
    "left = np.zeros(shape=(1000, 720, 1280))\n",
    "\n",
    "for i in range(606):\n",
    "    img = cv2.imread('Train/Left/Left(' + str(i) + ').jpg')\n",
    "    img = cv2.cvtColor(np.array(img), cv2.COLOR_RGB2GRAY)\n",
    "    img = np.array(img)\n",
    "    left[i] = img"
   ]
  },
  {
   "cell_type": "code",
   "execution_count": null,
   "metadata": {},
   "outputs": [],
   "source": [
    "right = np.zeros(shape=(1000, 720, 1280))\n",
    "\n",
    "for i in range(606):\n",
    "    img = cv2.imread('Train/Right/Right(' + str(i) + ').jpg')\n",
    "    img = cv2.cvtColor(np.array(img), cv2.COLOR_RGB2GRAY)\n",
    "    img = np.array(img)\n",
    "    right[i] = img"
   ]
  },
  {
   "cell_type": "code",
   "execution_count": null,
   "metadata": {},
   "outputs": [],
   "source": [
    "up = np.zeros(shape=(1000, 720, 1280))\n",
    "\n",
    "for i in range(208):\n",
    "    img = cv2.imread('Train/Up/Up(' + str(i) + ').jpg')\n",
    "    img = cv2.cvtColor(np.array(img), cv2.COLOR_RGB2GRAY)\n",
    "    img = np.array(img)\n",
    "    up[i] = img"
   ]
  },
  {
   "cell_type": "code",
   "execution_count": null,
   "metadata": {},
   "outputs": [],
   "source": [
    "none = np.zeros(shape=(1000, 720, 1280))\n",
    "\n",
    "for i in range(208):\n",
    "    img = cv2.imread('Train/None/None(' + str(i) + ').jpg')\n",
    "    img = cv2.cvtColor(np.array(img), cv2.COLOR_RGB2GRAY)\n",
    "    img = np.array(img)\n",
    "    up[i] = img"
   ]
  },
  {
   "cell_type": "code",
   "execution_count": null,
   "metadata": {},
   "outputs": [],
   "source": [
    "for num in range(1000):\n",
    "    x_train = np.zeros(shape=(500, 720, 1280), dtype=float)\n",
    "    y_train = np.zeros(shape=(500), dtype=float)\n",
    "    \n",
    "    for i in range(500):\n",
    "        x = np.random.randint(0,5) # всего 5 вариантов\n",
    "        y_train[i] = x\n",
    "\n",
    "        if x == 0:\n",
    "            j = np.random.randint(0, 208)\n",
    "            img = cv2.imread('Moves/Up/Up(' + str(j) + ').jpg')\n",
    "        \n",
    "        elif x == 1:\n",
    "            j = np.random.randint(0, 281)\n",
    "            img = cv2.imread('Moves/Down/Down(' + str(j) + ').jpg')\n",
    "            \n",
    "        elif x == 2:\n",
    "            j = np.random.randint(0, 606)\n",
    "            img = cv2.imread('Moves/Left/Left(' + str(j) + ').jpg')\n",
    "            \n",
    "        elif x == 3:\n",
    "            j = np.random.randint(0, 606)\n",
    "            img = cv2.imread('Moves/Right/Right(' + str(j) + ').jpg')\n",
    "\n",
    "        elif x == 4:\n",
    "            j = np.random.randint(0, 10189)\n",
    "            img = cv2.imread('Moves/None/None(' + str(j) + ').jpg')\n",
    "            \n",
    "        img = cv2.cvtColor(np.array(img), cv2.COLOR_RGB2GRAY)\n",
    "        img = np.array(img)\n",
    "        \n",
    "        x_train[i] = img\n",
    "        \n",
    "    np.save('Train_data/x_train_' + str(num) + '.npy', x_train)\n",
    "    np.save('Train_data/y_train_' + str(num) + '.npy', y_train)"
   ]
  },
  {
   "cell_type": "markdown",
   "metadata": {},
   "source": [
    "Neural network architecture"
   ]
  },
  {
   "cell_type": "code",
   "execution_count": 1,
   "metadata": {},
   "outputs": [],
   "source": [
    "import keras \n",
    "import tensorflow as tf\n",
    "from sklearn.preprocessing import StandardScaler\n",
    "from keras.models import Sequential\n",
    "from keras.layers import Dense, Flatten, Dropout, Conv2D, MaxPooling2D"
   ]
  },
  {
   "cell_type": "code",
   "execution_count": 3,
   "metadata": {},
   "outputs": [],
   "source": [
    "model = keras.Sequential([\n",
    "    Conv2D(32, (3,3), padding='same', activation='relu', input_shape=(720, 1280, 1)), #число фильров, размер ядер фильров, размер выходной карты признаков такая же, ...\n",
    "    MaxPooling2D((2, 2), strides=2), #размер окна и шаг сканирования (в данном случае не пересекаются)\n",
    "    \n",
    "    Conv2D(64, (3,3), padding='same', activation='relu'),\n",
    "    MaxPooling2D((2, 2), strides=2),\n",
    "    Dropout(0.2),\n",
    "    \n",
    "    Flatten(),\n",
    "    Dense(128, activation='relu'),\n",
    "    Dense(64, activation='relu'),\n",
    "    Dense(5,  activation='sigmoid')\n",
    "]) "
   ]
  },
  {
   "cell_type": "code",
   "execution_count": null,
   "metadata": {},
   "outputs": [],
   "source": [
    "model = Sequential()\n",
    "\n",
    "model.add(Conv2D(32, (3, 3), input_shape=(720, 1280, 1), padding='same'))\n",
    "model.add(Activation('relu'))\n",
    "model.add(Dropout(0.2))\n",
    "model.add(BatchNormalization())\n",
    "\n",
    "model.add(Conv2D(64, (3, 3), padding='same'))\n",
    "model.add(Activation('relu'))\n",
    "model.add(MaxPooling2D(pool_size=(2, 2)))\n",
    "model.add(Dropout(0.2))\n",
    "model.add(BatchNormalization())\n",
    "\n",
    "model.add(Conv2D(64, (3, 3), padding='same'))\n",
    "model.add(Activation('relu'))\n",
    "model.add(MaxPooling2D(pool_size=(2, 2)))\n",
    "model.add(Dropout(0.2))\n",
    "model.add(BatchNormalization())\n",
    "\n",
    "model.add(Conv2D(128, (3, 3), padding='same'))\n",
    "model.add(Activation('relu'))\n",
    "model.add(Dropout(0.2))\n",
    "model.add(BatchNormalization())\n",
    "\n",
    "model.add(Flatten())\n",
    "model.add(Dropout(0.2))\n",
    "\n",
    "model.add(Dense(256))\n",
    "model.add(Activation('relu'))\n",
    "model.add(Dropout(0.2))\n",
    "model.add(BatchNormalization())\n",
    "model.add(Dense(128))\n",
    "model.add(Activation('relu'))\n",
    "model.add(Dropout(0.2))\n",
    "model.add(BatchNormalization())\n",
    "model.add(Dense(5))\n",
    "model.add(Activation('softmax'))\n"
   ]
  },
  {
   "cell_type": "code",
   "execution_count": null,
   "metadata": {},
   "outputs": [],
   "source": [
    "model = keras.Sequential([\n",
    "    tf.keras.layers.Conv2D(32, (3, 3), activation=\"tanh\", input_shape=(720, 1280)),\n",
    "    tf.keras.layers.AveragePooling2D(pool_size=(2, 2), strides=2),\n",
    "    tf.keras.layers.Conv2D(16, (3, 3), activation=\"tanh\"),\n",
    "    tf.keras.layers.AveragePooling2D(pool_size=(2, 2)),\n",
    "    tf.keras.layers.Flatten(),\n",
    "    tf.keras.layers.Dense(128, activation=\"relu\"),\n",
    "    tf.keras.layers.Dropout(0.3),\n",
    "    tf.keras.layers.Dense(5, activation=\"sigmoid\")\n",
    "    ])"
   ]
  },
  {
   "cell_type": "markdown",
   "metadata": {},
   "source": [
    "Start training"
   ]
  },
  {
   "cell_type": "code",
   "execution_count": 4,
   "metadata": {},
   "outputs": [],
   "source": [
    "model.compile(optimizer='nadam',\n",
    "             loss='categorical_crossentropy',\n",
    "             metrics=['accuracy'])"
   ]
  },
  {
   "cell_type": "code",
   "execution_count": null,
   "metadata": {},
   "outputs": [],
   "source": [
    "for i in range(0, 100):\n",
    "    x_train = np.load('Train_data/x_train_' + str(i) + '.npy')\n",
    "    y_train = np.load('Train_data/y_train_' + str(i) + '.npy')\n",
    "    y_train_cat = keras.utils.to_categorical(y_train, 5)\n",
    "    \n",
    "    model.fit(x_train, y_train_cat, batch_size=10, epochs=5, validation_split=0.2)\n",
    "    print()\n",
    "\n",
    "\n",
    "model.save('model.h5')"
   ]
  },
  {
   "cell_type": "markdown",
   "metadata": {},
   "source": [
    "Checking accuracy on the whole set and on a separate image"
   ]
  },
  {
   "cell_type": "code",
   "execution_count": null,
   "metadata": {},
   "outputs": [],
   "source": [
    "model.evaluate(x_train, y_train_cat)"
   ]
  },
  {
   "cell_type": "code",
   "execution_count": null,
   "metadata": {},
   "outputs": [],
   "source": [
    "x = np.expand_dims(x_train[200], axis = 0)   \n",
    "res = model.predict(x)\n",
    "np.argmax(res)"
   ]
  },
  {
   "cell_type": "markdown",
   "metadata": {},
   "source": [
    "Start the game and check the performance"
   ]
  },
  {
   "cell_type": "code",
   "execution_count": 3,
   "metadata": {},
   "outputs": [],
   "source": [
    "model = keras.models.load_model('model.h5')"
   ]
  },
  {
   "cell_type": "code",
   "execution_count": null,
   "metadata": {},
   "outputs": [],
   "source": [
    "time.sleep(5)\n",
    "kb = Controller()\n",
    "mouse.click('left')\n",
    "\n",
    "while True:\n",
    "    try:\n",
    "        screen = screenshot()\n",
    "        x = np.expand_dims(screen, axis = 0)   \n",
    "        res = model.predict(x)\n",
    "        move = np.argmax(res)\n",
    "        \n",
    "        if move == 0:\n",
    "            kb.press(Key.up)\n",
    "        \n",
    "        elif move == 1:\n",
    "            kb.press(Key.down)\n",
    "            \n",
    "        elif move == 2:\n",
    "            kb.press(Key.left)\n",
    "            \n",
    "        elif move == 3:\n",
    "            kb.press(Key.right)\n",
    "            \n",
    "        time.sleep(0.1)\n",
    "        \n",
    "    except:\n",
    "        break"
   ]
  }
 ],
 "metadata": {
  "kernelspec": {
   "display_name": "Python 3",
   "language": "python",
   "name": "python3"
  },
  "language_info": {
   "codemirror_mode": {
    "name": "ipython",
    "version": 3
   },
   "file_extension": ".py",
   "mimetype": "text/x-python",
   "name": "python",
   "nbconvert_exporter": "python",
   "pygments_lexer": "ipython3",
   "version": "3.9.13"
  },
  "orig_nbformat": 4,
  "vscode": {
   "interpreter": {
    "hash": "11938c6bc6919ae2720b4d5011047913343b08a43b18698fd82dedb0d4417594"
   }
  }
 },
 "nbformat": 4,
 "nbformat_minor": 2
}
